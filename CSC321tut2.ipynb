{
  "nbformat": 4,
  "nbformat_minor": 0,
  "metadata": {
    "colab": {
      "name": "CSC321tut2.ipynb",
      "version": "0.3.2",
      "provenance": [],
      "collapsed_sections": [],
      "include_colab_link": true
    },
    "kernelspec": {
      "name": "python3",
      "display_name": "Python 3"
    }
  },
  "cells": [
    {
      "cell_type": "markdown",
      "metadata": {
        "id": "view-in-github",
        "colab_type": "text"
      },
      "source": [
        "<a href=\"https://colab.research.google.com/github/nathankim7/colab-notebooks/blob/master/CSC321tut2.ipynb\" target=\"_parent\"><img src=\"https://colab.research.google.com/assets/colab-badge.svg\" alt=\"Open In Colab\"/></a>"
      ]
    },
    {
      "metadata": {
        "id": "Vqu1qWs3QMai",
        "colab_type": "code",
        "colab": {}
      },
      "cell_type": "code",
      "source": [
        "import matplotlib\n",
        "import numpy as np\n",
        "import matplotlib.pyplot as plt\n",
        "%matplotlib inline"
      ],
      "execution_count": 0,
      "outputs": []
    },
    {
      "metadata": {
        "id": "0_cVvv61QfCE",
        "colab_type": "code",
        "outputId": "2ec9549f-2bb7-45a7-c4c8-8f5cabdaf035",
        "colab": {
          "base_uri": "https://localhost:8080/",
          "height": 1109
        }
      },
      "cell_type": "code",
      "source": [
        "from sklearn.datasets import load_iris\n",
        "iris = load_iris()\n",
        "print(iris['DESCR'])"
      ],
      "execution_count": 0,
      "outputs": [
        {
          "output_type": "stream",
          "text": [
            ".. _iris_dataset:\n",
            "\n",
            "Iris plants dataset\n",
            "--------------------\n",
            "\n",
            "**Data Set Characteristics:**\n",
            "\n",
            "    :Number of Instances: 150 (50 in each of three classes)\n",
            "    :Number of Attributes: 4 numeric, predictive attributes and the class\n",
            "    :Attribute Information:\n",
            "        - sepal length in cm\n",
            "        - sepal width in cm\n",
            "        - petal length in cm\n",
            "        - petal width in cm\n",
            "        - class:\n",
            "                - Iris-Setosa\n",
            "                - Iris-Versicolour\n",
            "                - Iris-Virginica\n",
            "                \n",
            "    :Summary Statistics:\n",
            "\n",
            "    ============== ==== ==== ======= ===== ====================\n",
            "                    Min  Max   Mean    SD   Class Correlation\n",
            "    ============== ==== ==== ======= ===== ====================\n",
            "    sepal length:   4.3  7.9   5.84   0.83    0.7826\n",
            "    sepal width:    2.0  4.4   3.05   0.43   -0.4194\n",
            "    petal length:   1.0  6.9   3.76   1.76    0.9490  (high!)\n",
            "    petal width:    0.1  2.5   1.20   0.76    0.9565  (high!)\n",
            "    ============== ==== ==== ======= ===== ====================\n",
            "\n",
            "    :Missing Attribute Values: None\n",
            "    :Class Distribution: 33.3% for each of 3 classes.\n",
            "    :Creator: R.A. Fisher\n",
            "    :Donor: Michael Marshall (MARSHALL%PLU@io.arc.nasa.gov)\n",
            "    :Date: July, 1988\n",
            "\n",
            "The famous Iris database, first used by Sir R.A. Fisher. The dataset is taken\n",
            "from Fisher's paper. Note that it's the same as in R, but not as in the UCI\n",
            "Machine Learning Repository, which has two wrong data points.\n",
            "\n",
            "This is perhaps the best known database to be found in the\n",
            "pattern recognition literature.  Fisher's paper is a classic in the field and\n",
            "is referenced frequently to this day.  (See Duda & Hart, for example.)  The\n",
            "data set contains 3 classes of 50 instances each, where each class refers to a\n",
            "type of iris plant.  One class is linearly separable from the other 2; the\n",
            "latter are NOT linearly separable from each other.\n",
            "\n",
            ".. topic:: References\n",
            "\n",
            "   - Fisher, R.A. \"The use of multiple measurements in taxonomic problems\"\n",
            "     Annual Eugenics, 7, Part II, 179-188 (1936); also in \"Contributions to\n",
            "     Mathematical Statistics\" (John Wiley, NY, 1950).\n",
            "   - Duda, R.O., & Hart, P.E. (1973) Pattern Classification and Scene Analysis.\n",
            "     (Q327.D83) John Wiley & Sons.  ISBN 0-471-22361-1.  See page 218.\n",
            "   - Dasarathy, B.V. (1980) \"Nosing Around the Neighborhood: A New System\n",
            "     Structure and Classification Rule for Recognition in Partially Exposed\n",
            "     Environments\".  IEEE Transactions on Pattern Analysis and Machine\n",
            "     Intelligence, Vol. PAMI-2, No. 1, 67-71.\n",
            "   - Gates, G.W. (1972) \"The Reduced Nearest Neighbor Rule\".  IEEE Transactions\n",
            "     on Information Theory, May 1972, 431-433.\n",
            "   - See also: 1988 MLC Proceedings, 54-64.  Cheeseman et al\"s AUTOCLASS II\n",
            "     conceptual clustering system finds 3 classes in the data.\n",
            "   - Many, many more ...\n"
          ],
          "name": "stdout"
        }
      ]
    },
    {
      "metadata": {
        "id": "5A3ZVwE_Q0KN",
        "colab_type": "code",
        "colab": {}
      },
      "cell_type": "code",
      "source": [
        "sepal_len = iris['data'][:100, 0]\n",
        "sepal_wid = iris['data'][:100, 1]\n",
        "labels = iris['target'][:100]\n",
        "\n",
        "# centering data such that biases are not required \\(the bias would have centered it anyway\\)\n",
        "sepal_len -= np.mean(sepal_len)\n",
        "sepal_wid -= np.mean(sepal_wid)"
      ],
      "execution_count": 0,
      "outputs": []
    },
    {
      "metadata": {
        "id": "97e6_5_gR4Sr",
        "colab_type": "code",
        "outputId": "7e8780dc-8697-47c8-8036-f5dccd9674f4",
        "colab": {
          "base_uri": "https://localhost:8080/",
          "height": 300
        }
      },
      "cell_type": "code",
      "source": [
        "plt.scatter(sepal_len, sepal_wid, c=labels, cmap=plt.cm.Paired)\n",
        "plt.xlabel(\"sepal length\")\n",
        "plt.ylabel(\"sepal width\")\n",
        "m = -0.371/-0.401\n",
        "plt.plot([-1.2,1.5], [-1.2*m, 1.5*m], '-y')"
      ],
      "execution_count": 0,
      "outputs": [
        {
          "output_type": "execute_result",
          "data": {
            "text/plain": [
              "[<matplotlib.lines.Line2D at 0x7f4d590edb70>]"
            ]
          },
          "metadata": {
            "tags": []
          },
          "execution_count": 12
        },
        {
          "output_type": "display_data",
          "data": {
            "image/png": "[encoded data removed]",
            "text/plain": [
              "<Figure size 432x288 with 1 Axes>"
            ]
          },
          "metadata": {
            "tags": []
          }
        }
      ]
    },
    {
      "metadata": {
        "id": "pUW1o-tHSt0a",
        "colab_type": "code",
        "colab": {}
      },
      "cell_type": "code",
      "source": [
        "def plot_weight_space(sepal_len, sepal_wid, lab = 1, color = 'steelblue', maxlim = 2.0):\n",
        "  plt.title(\"Constraint(s) in Weight Space\")\n",
        "  plt.ylim([-maxlim,maxlim])\n",
        "  plt.xlim([-maxlim,maxlim])\n",
        "  plt.xlabel(\"w1\")\n",
        "  plt.ylabel(\"w2\")\n",
        "  \n",
        "  if sepal_wid != 0:\n",
        "    m = -sepal_len / sepal_wid\n",
        "    t = 1 * lab if sepal_wid > 0 else -1 * lab\n",
        "    plt.plot([-maxlim, maxlim], [-maxlim * m, maxlim * m], '-y', color = color)\n",
        "    plt.fill_between(\n",
        "    [-maxlim, maxlim], # x\n",
        "    [m * -maxlim, m * maxlim], # y-min\n",
        "    [t * maxlim, t * maxlim], # y-max\n",
        "    alpha = 0.2,\n",
        "    color = color)\n",
        "    \n",
        "  if sepal_wid == 0: # decision boundary is vertical\n",
        "    t = 1*lab if sepal_len > 0 else -1*lab\n",
        "    plt.plot([0, 0], [-maxlim, maxlim], '-y', color=color)\n",
        "    plt.fill_between([0, 2.0*t], [-maxlim, -maxlim], [maxlim, maxlim], alpha=0.2, color=color)"
      ],
      "execution_count": 0,
      "outputs": []
    },
    {
      "metadata": {
        "id": "JOO380IUYTbM",
        "colab_type": "code",
        "colab": {}
      },
      "cell_type": "code",
      "source": [
        "def solve_grad(X, t):\n",
        "  N, D = np.shape(X)\n",
        "  w = np.zeros([D])\n",
        "  \"\"\"\n",
        "  convergence: every time the algorithm makes a mistake, it shifts the weight\n",
        "  vector closer to the feasible set (e.g. those vectors which classify all\n",
        "  positive and negative points correctly).\n",
        "  \"\"\"\n",
        "  \n",
        "  for i in range(N):\n",
        "    z = np.matmul(np.transpose(w), X[i]) \n",
        "    # = w1x1 + w2x2 + ... + wDxD + b, think of ax + by + c for lines\n",
        "\n",
        "    if z * t[i] <= 0: # e.g. in a line, all points for which ax + by + c < 0 fall below the line and all for which ax + by + c > 0 fall above\n",
        "      w += t[i] * X[i]\n",
        "      \n",
        "  print(str(w))\n",
        "  return"
      ],
      "execution_count": 0,
      "outputs": []
    },
    {
      "metadata": {
        "id": "4ig1JM9aecuo",
        "colab_type": "code",
        "outputId": "5e2b4b93-e70c-4d21-edff-840210eb7cfc",
        "colab": {
          "base_uri": "https://localhost:8080/",
          "height": 35
        }
      },
      "cell_type": "code",
      "source": [
        "x_input = iris['data'][:100, [0, 1]]\n",
        "y_target = np.sign(iris['target'][:100] - 0.5) # classes must be 1 or -1\n",
        "solve_grad(x_input, y_target)"
      ],
      "execution_count": 0,
      "outputs": [
        {
          "output_type": "stream",
          "text": [
            "[ 0.371 -0.401]\n"
          ],
          "name": "stdout"
        }
      ]
    },
    {
      "metadata": {
        "id": "7dogTGMHnnhl",
        "colab_type": "code",
        "outputId": "f79a6b49-693d-459a-8e0c-73a44b9e12d1",
        "colab": {
          "base_uri": "https://localhost:8080/",
          "height": 35
        }
      },
      "cell_type": "code",
      "source": [
        "x = np.array([2, 3])\n",
        "y = np.array([2, 3])\n",
        "np.matmul(x, y)"
      ],
      "execution_count": 0,
      "outputs": [
        {
          "output_type": "execute_result",
          "data": {
            "text/plain": [
              "13"
            ]
          },
          "metadata": {
            "tags": []
          },
          "execution_count": 31
        }
      ]
    }
  ]
}